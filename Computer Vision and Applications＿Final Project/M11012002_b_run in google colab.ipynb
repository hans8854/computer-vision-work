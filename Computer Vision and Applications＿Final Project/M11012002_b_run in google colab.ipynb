{
  "nbformat": 4,
  "nbformat_minor": 0,
  "metadata": {
    "colab": {
      "name": "Untitled8.ipynb",
      "provenance": [],
      "collapsed_sections": []
    },
    "kernelspec": {
      "name": "python3",
      "display_name": "Python 3"
    },
    "language_info": {
      "name": "python"
    }
  },
  "cells": [
    {
      "cell_type": "code",
      "source": [
        "from IPython.core.display import Image\n",
        "from numpy.lib.function_base import append\n",
        "import numpy as np\n",
        "from google.colab.patches import cv2_imshow\n",
        "import cv2 # 導入OpenCV函式庫\n",
        "from google.colab import files\n",
        "\n",
        "#==========================load image and xyz file==========================\n",
        "img = cv2.imread('/content/TextureImage.JPG')\n",
        "xyz = np.loadtxt('/content/M11012002.xyz')\n",
        "img_rgb = cv2.cvtColor(img, cv2.COLOR_BGR2RGB)\n",
        "\n",
        "\n",
        "color = []#RGB array\n",
        "\n",
        "#==========================picked points in 3D point cloud==========================\n",
        "zero = np.zeros(4).astype(int)\n",
        "X = np.array([[9,-55,179,1],[10,-31,164,1],[9,37,168,1],[3,-29,170,1],\n",
        "              [15,-30,171,1],[-12,22,169,1],[34,37,176,1]])\n",
        "\n",
        "#==========================picked points in image==========================\n",
        "uv = np.array([[154,1366,1],[580,1280,1],[2142,1270,1],[616,1168,1],\n",
        "              [652,1444,1],[1730,799,1],[2106,1806,1]])\n",
        "\n",
        "# ==========================find projective matrix===========================\n",
        "Puv = np.zeros(shape=(14,12))\n",
        "for i in range(7):\n",
        "  Puv[2*i] = np.concatenate((X[i], zero, -uv[i,0]*X[i]))\n",
        "  Puv[2*i+1] = np.concatenate((zero, X[i], -uv[i,1]*X[i]))\n",
        "\n",
        "Up, Sp, Vpt = np.linalg.svd(Puv)\n",
        "Vp = Vpt.T\n",
        "\n",
        "P = np.vstack((np.vstack((Vp[0:4,11],Vp[4:8,11])),Vp[8:12,11]))\n",
        "\n",
        "P = P/P[2,3]\n",
        "# ==========================================================================\n",
        "\n",
        "# =======P*X to get 3D point cloud corresponding point in image==============\n",
        "for i in range(len(xyz)):\n",
        "  wp = np.append(xyz[i],1)\n",
        "  ip = np.dot(P,wp)\n",
        "  ip = ip/ip[2] #normalize let ip[2] = 1\n",
        "  ip = ip.astype(int)\n",
        "  # print(ip)\n",
        "  color.append(img_rgb[ip[0],ip[1]])#append RGB valne to color array\n",
        "\n",
        "color = np.array(color)\n",
        "# print(color)\n",
        "\n",
        "xyz_rgb = np.concatenate([xyz, color], axis = 1)#combine XYZ and RGB valne \n",
        "np.savetxt('M11012002_coloe.xyz', xyz_rgb)\n",
        "files.download(\"M11012002_color.xyz\")"
      ],
      "metadata": {
        "colab": {
          "base_uri": "https://localhost:8080/",
          "height": 160
        },
        "id": "PgWJ5zOKgSVv",
        "outputId": "a2a0a922-2be8-48ef-f6fa-4bb3794d44f0"
      },
      "execution_count": 31,
      "outputs": [
        {
          "output_type": "stream",
          "name": "stdout",
          "text": [
            "\n",
            "[[139 144 138]\n",
            " [142 144 139]\n",
            " [155 161 159]\n",
            " ...\n",
            " [112  86  85]\n",
            " [115  89  88]\n",
            " [115  89  88]]\n"
          ]
        },
        {
          "output_type": "display_data",
          "data": {
            "text/plain": [
              "<IPython.core.display.Javascript object>"
            ],
            "application/javascript": [
              "\n",
              "    async function download(id, filename, size) {\n",
              "      if (!google.colab.kernel.accessAllowed) {\n",
              "        return;\n",
              "      }\n",
              "      const div = document.createElement('div');\n",
              "      const label = document.createElement('label');\n",
              "      label.textContent = `Downloading \"${filename}\": `;\n",
              "      div.appendChild(label);\n",
              "      const progress = document.createElement('progress');\n",
              "      progress.max = size;\n",
              "      div.appendChild(progress);\n",
              "      document.body.appendChild(div);\n",
              "\n",
              "      const buffers = [];\n",
              "      let downloaded = 0;\n",
              "\n",
              "      const channel = await google.colab.kernel.comms.open(id);\n",
              "      // Send a message to notify the kernel that we're ready.\n",
              "      channel.send({})\n",
              "\n",
              "      for await (const message of channel.messages) {\n",
              "        // Send a message to notify the kernel that we're ready.\n",
              "        channel.send({})\n",
              "        if (message.buffers) {\n",
              "          for (const buffer of message.buffers) {\n",
              "            buffers.push(buffer);\n",
              "            downloaded += buffer.byteLength;\n",
              "            progress.value = downloaded;\n",
              "          }\n",
              "        }\n",
              "      }\n",
              "      const blob = new Blob(buffers, {type: 'application/binary'});\n",
              "      const a = document.createElement('a');\n",
              "      a.href = window.URL.createObjectURL(blob);\n",
              "      a.download = filename;\n",
              "      div.appendChild(a);\n",
              "      a.click();\n",
              "      div.remove();\n",
              "    }\n",
              "  "
            ]
          },
          "metadata": {}
        },
        {
          "output_type": "display_data",
          "data": {
            "text/plain": [
              "<IPython.core.display.Javascript object>"
            ],
            "application/javascript": [
              "download(\"download_a4c49bef-b9cb-4b40-bcf6-308bf5dd6376\", \"M11012002_coloe.xyz\", 20384250)"
            ]
          },
          "metadata": {}
        }
      ]
    }
  ]
}