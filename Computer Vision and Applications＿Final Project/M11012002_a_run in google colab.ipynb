{
  "nbformat": 4,
  "nbformat_minor": 0,
  "metadata": {
    "colab": {
      "name": "Untitled8.ipynb",
      "provenance": [],
      "collapsed_sections": []
    },
    "kernelspec": {
      "name": "python3",
      "display_name": "Python 3"
    },
    "language_info": {
      "name": "python"
    }
  },
  "cells": [
    {
      "cell_type": "code",
      "execution_count": 1,
      "metadata": {
        "id": "ABu-8gMKWrDW",
        "colab": {
          "base_uri": "https://localhost:8080/",
          "height": 73
        },
        "outputId": "52574a29-c48f-4f03-faea-8d600676b4e0"
      },
      "outputs": [
        {
          "output_type": "stream",
          "name": "stdout",
          "text": [
            "['/content/R/R000.JPG', '/content/R/R001.JPG', '/content/R/R002.JPG', '/content/R/R003.JPG', '/content/R/R004.JPG', '/content/R/R005.JPG', '/content/R/R006.JPG', '/content/R/R007.JPG', '/content/R/R008.JPG', '/content/R/R009.JPG', '/content/R/R010.JPG', '/content/R/R011.JPG', '/content/R/R012.JPG', '/content/R/R013.JPG', '/content/R/R014.JPG', '/content/R/R015.JPG', '/content/R/R016.JPG', '/content/R/R017.JPG', '/content/R/R018.JPG', '/content/R/R019.JPG', '/content/R/R020.JPG', '/content/R/R021.JPG', '/content/R/R022.JPG', '/content/R/R023.JPG', '/content/R/R024.JPG', '/content/R/R025.JPG', '/content/R/R026.JPG', '/content/R/R027.JPG', '/content/R/R028.JPG', '/content/R/R029.JPG', '/content/R/R030.JPG', '/content/R/R031.JPG', '/content/R/R032.JPG', '/content/R/R033.JPG', '/content/R/R034.JPG', '/content/R/R035.JPG', '/content/R/R036.JPG', '/content/R/R037.JPG', '/content/R/R038.JPG', '/content/R/R039.JPG', '/content/R/R040.JPG', '/content/R/R041.JPG', '/content/R/R042.JPG', '/content/R/R043.JPG', '/content/R/R044.JPG', '/content/R/R045.JPG', '/content/R/R046.JPG', '/content/R/R047.JPG', '/content/R/R048.JPG', '/content/R/R049.JPG', '/content/R/R050.JPG', '/content/R/R051.JPG', '/content/R/R052.JPG', '/content/R/R053.JPG', '/content/R/R054.JPG', '/content/R/R055.JPG', '/content/R/R056.JPG', '/content/R/R057.JPG', '/content/R/R058.JPG', '/content/R/R059.JPG', '/content/R/R060.JPG', '/content/R/R061.JPG', '/content/R/R062.JPG', '/content/R/R063.JPG', '/content/R/R064.JPG', '/content/R/R065.JPG', '/content/R/R066.JPG', '/content/R/R067.JPG', '/content/R/R068.JPG', '/content/R/R069.JPG', '/content/R/R070.JPG', '/content/R/R071.JPG', '/content/R/R072.JPG', '/content/R/R073.JPG', '/content/R/R074.JPG', '/content/R/R075.JPG', '/content/R/R076.JPG', '/content/R/R077.JPG', '/content/R/R078.JPG', '/content/R/R079.JPG', '/content/R/R080.JPG', '/content/R/R081.JPG', '/content/R/R082.JPG', '/content/R/R083.JPG', '/content/R/R084.JPG', '/content/R/R085.JPG', '/content/R/R086.JPG', '/content/R/R087.JPG', '/content/R/R088.JPG', '/content/R/R089.JPG', '/content/R/R090.JPG', '/content/R/R091.JPG', '/content/R/R092.JPG', '/content/R/R093.JPG', '/content/R/R094.JPG', '/content/R/R095.JPG', '/content/R/R096.JPG', '/content/R/R097.JPG', '/content/R/R098.JPG', '/content/R/R099.JPG', '/content/R/R100.JPG', '/content/R/R101.JPG', '/content/R/R102.JPG', '/content/R/R103.JPG', '/content/R/R104.JPG', '/content/R/R105.JPG', '/content/R/R106.JPG', '/content/R/R107.JPG', '/content/R/R108.JPG', '/content/R/R109.JPG', '/content/R/R110.JPG', '/content/R/R111.JPG', '/content/R/R112.JPG', '/content/R/R113.JPG', '/content/R/R114.JPG', '/content/R/R115.JPG', '/content/R/R116.JPG', '/content/R/R117.JPG', '/content/R/R118.JPG', '/content/R/R119.JPG', '/content/R/R120.JPG', '/content/R/R121.JPG', '/content/R/R122.JPG', '/content/R/R123.JPG', '/content/R/R124.JPG', '/content/R/R125.JPG', '/content/R/R126.JPG', '/content/R/R127.JPG', '/content/R/R128.JPG', '/content/R/R129.JPG', '/content/R/R130.JPG', '/content/R/R131.JPG', '/content/R/R132.JPG', '/content/R/R133.JPG', '/content/R/R134.JPG', '/content/R/R135.JPG', '/content/R/R136.JPG', '/content/R/R137.JPG', '/content/R/R138.JPG', '/content/R/R139.JPG', '/content/R/R140.JPG', '/content/R/R141.JPG', '/content/R/R142.JPG', '/content/R/R143.JPG', '/content/R/R144.JPG', '/content/R/R145.JPG', '/content/R/R146.JPG', '/content/R/R147.JPG', '/content/R/R148.JPG', '/content/R/R149.JPG', '/content/R/R150.JPG', '/content/R/R151.JPG', '/content/R/R152.JPG', '/content/R/R153.JPG', '/content/R/R154.JPG', '/content/R/R155.JPG', '/content/R/R156.JPG', '/content/R/R157.JPG', '/content/R/R158.JPG', '/content/R/R159.JPG', '/content/R/R160.JPG', '/content/R/R161.JPG', '/content/R/R162.JPG', '/content/R/R163.JPG', '/content/R/R164.JPG', '/content/R/R165.JPG', '/content/R/R166.JPG', '/content/R/R167.JPG', '/content/R/R168.JPG', '/content/R/R169.JPG', '/content/R/R170.JPG', '/content/R/R171.JPG', '/content/R/R172.JPG', '/content/R/R173.JPG', '/content/R/R174.JPG', '/content/R/R175.JPG', '/content/R/R176.JPG', '/content/R/R177.JPG', '/content/R/R178.JPG', '/content/R/R179.JPG', '/content/R/R180.JPG', '/content/R/R181.JPG', '/content/R/R182.JPG', '/content/R/R183.JPG', '/content/R/R184.JPG', '/content/R/R185.JPG', '/content/R/R186.JPG', '/content/R/R187.JPG', '/content/R/R188.JPG', '/content/R/R189.JPG', '/content/R/R190.JPG', '/content/R/R191.JPG', '/content/R/R192.JPG', '/content/R/R193.JPG', '/content/R/R194.JPG', '/content/R/R195.JPG', '/content/R/R196.JPG', '/content/R/R197.JPG', '/content/R/R198.JPG', '/content/R/R199.JPG', '/content/R/R200.JPG', '/content/R/R201.JPG', '/content/R/R202.JPG', '/content/R/R203.JPG', '/content/R/R204.JPG', '/content/R/R205.JPG', '/content/R/R206.JPG', '/content/R/R207.JPG', '/content/R/R208.JPG', '/content/R/R209.JPG', '/content/R/R210.JPG', '/content/R/R211.JPG', '/content/R/R212.JPG', '/content/R/R213.JPG', '/content/R/R214.JPG', '/content/R/R215.JPG', '/content/R/R216.JPG', '/content/R/R217.JPG', '/content/R/R218.JPG', '/content/R/R219.JPG', '/content/R/R220.JPG', '/content/R/R221.JPG', '/content/R/R222.JPG', '/content/R/R223.JPG', '/content/R/R224.JPG', '/content/R/R225.JPG', '/content/R/R226.JPG', '/content/R/R227.JPG', '/content/R/R228.JPG', '/content/R/R229.JPG', '/content/R/R230.JPG', '/content/R/R231.JPG', '/content/R/R232.JPG', '/content/R/R233.JPG', '/content/R/R234.JPG', '/content/R/R235.JPG', '/content/R/R236.JPG', '/content/R/R237.JPG', '/content/R/R238.JPG', '/content/R/R239.JPG', '/content/R/R240.JPG', '/content/R/R241.JPG', '/content/R/R242.JPG', '/content/R/R243.JPG', '/content/R/R244.JPG', '/content/R/R245.JPG', '/content/R/R246.JPG', '/content/R/R247.JPG', '/content/R/R248.JPG', '/content/R/R249.JPG', '/content/R/R250.JPG', '/content/R/R251.JPG', '/content/R/R252.JPG', '/content/R/R253.JPG', '/content/R/R254.JPG', '/content/R/R255.JPG', '/content/R/R256.JPG', '/content/R/R257.JPG', '/content/R/R258.JPG', '/content/R/R259.JPG', '/content/R/R260.JPG', '/content/R/R261.JPG', '/content/R/R262.JPG', '/content/R/R263.JPG', '/content/R/R264.JPG', '/content/R/R265.JPG', '/content/R/R266.JPG', '/content/R/R267.JPG', '/content/R/R268.JPG', '/content/R/R269.JPG', '/content/R/R270.JPG', '/content/R/R271.JPG', '/content/R/R272.JPG', '/content/R/R273.JPG', '/content/R/R274.JPG', '/content/R/R275.JPG', '/content/R/R276.JPG', '/content/R/R277.JPG', '/content/R/R278.JPG', '/content/R/R279.JPG', '/content/R/R280.JPG', '/content/R/R281.JPG', '/content/R/R282.JPG', '/content/R/R283.JPG', '/content/R/R284.JPG', '/content/R/R285.JPG', '/content/R/R286.JPG', '/content/R/R287.JPG', '/content/R/R288.JPG', '/content/R/R289.JPG', '/content/R/R290.JPG', '/content/R/R291.JPG', '/content/R/R292.JPG']\n",
            "['/content/L/L000.JPG', '/content/L/L001.JPG', '/content/L/L002.JPG', '/content/L/L003.JPG', '/content/L/L004.JPG', '/content/L/L005.JPG', '/content/L/L006.JPG', '/content/L/L007.JPG', '/content/L/L008.JPG', '/content/L/L009.JPG', '/content/L/L010.JPG', '/content/L/L011.JPG', '/content/L/L012.JPG', '/content/L/L013.JPG', '/content/L/L014.JPG', '/content/L/L015.JPG', '/content/L/L016.JPG', '/content/L/L017.JPG', '/content/L/L018.JPG', '/content/L/L019.JPG', '/content/L/L020.JPG', '/content/L/L021.JPG', '/content/L/L022.JPG', '/content/L/L023.JPG', '/content/L/L024.JPG', '/content/L/L025.JPG', '/content/L/L026.JPG', '/content/L/L027.JPG', '/content/L/L028.JPG', '/content/L/L029.JPG', '/content/L/L030.JPG', '/content/L/L031.JPG', '/content/L/L032.JPG', '/content/L/L033.JPG', '/content/L/L034.JPG', '/content/L/L035.JPG', '/content/L/L036.JPG', '/content/L/L037.JPG', '/content/L/L038.JPG', '/content/L/L039.JPG', '/content/L/L040.JPG', '/content/L/L041.JPG', '/content/L/L042.JPG', '/content/L/L043.JPG', '/content/L/L044.JPG', '/content/L/L045.JPG', '/content/L/L046.JPG', '/content/L/L047.JPG', '/content/L/L048.JPG', '/content/L/L049.JPG', '/content/L/L050.JPG', '/content/L/L051.JPG', '/content/L/L052.JPG', '/content/L/L053.JPG', '/content/L/L054.JPG', '/content/L/L055.JPG', '/content/L/L056.JPG', '/content/L/L057.JPG', '/content/L/L058.JPG', '/content/L/L059.JPG', '/content/L/L060.JPG', '/content/L/L061.JPG', '/content/L/L062.JPG', '/content/L/L063.JPG', '/content/L/L064.JPG', '/content/L/L065.JPG', '/content/L/L066.JPG', '/content/L/L067.JPG', '/content/L/L068.JPG', '/content/L/L069.JPG', '/content/L/L070.JPG', '/content/L/L071.JPG', '/content/L/L072.JPG', '/content/L/L073.JPG', '/content/L/L074.JPG', '/content/L/L075.JPG', '/content/L/L076.JPG', '/content/L/L077.JPG', '/content/L/L078.JPG', '/content/L/L079.JPG', '/content/L/L080.JPG', '/content/L/L081.JPG', '/content/L/L082.JPG', '/content/L/L083.JPG', '/content/L/L084.JPG', '/content/L/L085.JPG', '/content/L/L086.JPG', '/content/L/L087.JPG', '/content/L/L088.JPG', '/content/L/L089.JPG', '/content/L/L090.JPG', '/content/L/L091.JPG', '/content/L/L092.JPG', '/content/L/L093.JPG', '/content/L/L094.JPG', '/content/L/L095.JPG', '/content/L/L096.JPG', '/content/L/L097.JPG', '/content/L/L098.JPG', '/content/L/L099.JPG', '/content/L/L100.JPG', '/content/L/L101.JPG', '/content/L/L102.JPG', '/content/L/L103.JPG', '/content/L/L104.JPG', '/content/L/L105.JPG', '/content/L/L106.JPG', '/content/L/L107.JPG', '/content/L/L108.JPG', '/content/L/L109.JPG', '/content/L/L110.JPG', '/content/L/L111.JPG', '/content/L/L112.JPG', '/content/L/L113.JPG', '/content/L/L114.JPG', '/content/L/L115.JPG', '/content/L/L116.JPG', '/content/L/L117.JPG', '/content/L/L118.JPG', '/content/L/L119.JPG', '/content/L/L120.JPG', '/content/L/L121.JPG', '/content/L/L122.JPG', '/content/L/L123.JPG', '/content/L/L124.JPG', '/content/L/L125.JPG', '/content/L/L126.JPG', '/content/L/L127.JPG', '/content/L/L128.JPG', '/content/L/L129.JPG', '/content/L/L130.JPG', '/content/L/L131.JPG', '/content/L/L132.JPG', '/content/L/L133.JPG', '/content/L/L134.JPG', '/content/L/L135.JPG', '/content/L/L136.JPG', '/content/L/L137.JPG', '/content/L/L138.JPG', '/content/L/L139.JPG', '/content/L/L140.JPG', '/content/L/L141.JPG', '/content/L/L142.JPG', '/content/L/L143.JPG', '/content/L/L144.JPG', '/content/L/L145.JPG', '/content/L/L146.JPG', '/content/L/L147.JPG', '/content/L/L148.JPG', '/content/L/L149.JPG', '/content/L/L150.JPG', '/content/L/L151.JPG', '/content/L/L152.JPG', '/content/L/L153.JPG', '/content/L/L154.JPG', '/content/L/L155.JPG', '/content/L/L156.JPG', '/content/L/L157.JPG', '/content/L/L158.JPG', '/content/L/L159.JPG', '/content/L/L160.JPG', '/content/L/L161.JPG', '/content/L/L162.JPG', '/content/L/L163.JPG', '/content/L/L164.JPG', '/content/L/L165.JPG', '/content/L/L166.JPG', '/content/L/L167.JPG', '/content/L/L168.JPG', '/content/L/L169.JPG', '/content/L/L170.JPG', '/content/L/L171.JPG', '/content/L/L172.JPG', '/content/L/L173.JPG', '/content/L/L174.JPG', '/content/L/L175.JPG', '/content/L/L176.JPG', '/content/L/L177.JPG', '/content/L/L178.JPG', '/content/L/L179.JPG', '/content/L/L180.JPG', '/content/L/L181.JPG', '/content/L/L182.JPG', '/content/L/L183.JPG', '/content/L/L184.JPG', '/content/L/L185.JPG', '/content/L/L186.JPG', '/content/L/L187.JPG', '/content/L/L188.JPG', '/content/L/L189.JPG', '/content/L/L190.JPG', '/content/L/L191.JPG', '/content/L/L192.JPG', '/content/L/L193.JPG', '/content/L/L194.JPG', '/content/L/L195.JPG', '/content/L/L196.JPG', '/content/L/L197.JPG', '/content/L/L198.JPG', '/content/L/L199.JPG', '/content/L/L200.JPG', '/content/L/L201.JPG', '/content/L/L202.JPG', '/content/L/L203.JPG', '/content/L/L204.JPG', '/content/L/L205.JPG', '/content/L/L206.JPG', '/content/L/L207.JPG', '/content/L/L208.JPG', '/content/L/L209.JPG', '/content/L/L210.JPG', '/content/L/L211.JPG', '/content/L/L212.JPG', '/content/L/L213.JPG', '/content/L/L214.JPG', '/content/L/L215.JPG', '/content/L/L216.JPG', '/content/L/L217.JPG', '/content/L/L218.JPG', '/content/L/L219.JPG', '/content/L/L220.JPG', '/content/L/L221.JPG', '/content/L/L222.JPG', '/content/L/L223.JPG', '/content/L/L224.JPG', '/content/L/L225.JPG', '/content/L/L226.JPG', '/content/L/L227.JPG', '/content/L/L228.JPG', '/content/L/L229.JPG', '/content/L/L230.JPG', '/content/L/L231.JPG', '/content/L/L232.JPG', '/content/L/L233.JPG', '/content/L/L234.JPG', '/content/L/L235.JPG', '/content/L/L236.JPG', '/content/L/L237.JPG', '/content/L/L238.JPG', '/content/L/L239.JPG', '/content/L/L240.JPG', '/content/L/L241.JPG', '/content/L/L242.JPG', '/content/L/L243.JPG', '/content/L/L244.JPG', '/content/L/L245.JPG', '/content/L/L246.JPG', '/content/L/L247.JPG', '/content/L/L248.JPG', '/content/L/L249.JPG', '/content/L/L250.JPG', '/content/L/L251.JPG', '/content/L/L252.JPG', '/content/L/L253.JPG', '/content/L/L254.JPG', '/content/L/L255.JPG', '/content/L/L256.JPG', '/content/L/L257.JPG', '/content/L/L258.JPG', '/content/L/L259.JPG', '/content/L/L260.JPG', '/content/L/L261.JPG', '/content/L/L262.JPG', '/content/L/L263.JPG', '/content/L/L264.JPG', '/content/L/L265.JPG', '/content/L/L266.JPG', '/content/L/L267.JPG', '/content/L/L268.JPG', '/content/L/L269.JPG', '/content/L/L270.JPG', '/content/L/L271.JPG', '/content/L/L272.JPG', '/content/L/L273.JPG', '/content/L/L274.JPG', '/content/L/L275.JPG', '/content/L/L276.JPG', '/content/L/L277.JPG', '/content/L/L278.JPG', '/content/L/L279.JPG', '/content/L/L280.JPG', '/content/L/L281.JPG', '/content/L/L282.JPG', '/content/L/L283.JPG', '/content/L/L284.JPG', '/content/L/L285.JPG', '/content/L/L286.JPG', '/content/L/L287.JPG', '/content/L/L288.JPG', '/content/L/L289.JPG', '/content/L/L290.JPG', '/content/L/L291.JPG', '/content/L/L292.JPG']\n"
          ]
        },
        {
          "output_type": "display_data",
          "data": {
            "text/plain": [
              "<IPython.core.display.Javascript object>"
            ],
            "application/javascript": [
              "\n",
              "    async function download(id, filename, size) {\n",
              "      if (!google.colab.kernel.accessAllowed) {\n",
              "        return;\n",
              "      }\n",
              "      const div = document.createElement('div');\n",
              "      const label = document.createElement('label');\n",
              "      label.textContent = `Downloading \"${filename}\": `;\n",
              "      div.appendChild(label);\n",
              "      const progress = document.createElement('progress');\n",
              "      progress.max = size;\n",
              "      div.appendChild(progress);\n",
              "      document.body.appendChild(div);\n",
              "\n",
              "      const buffers = [];\n",
              "      let downloaded = 0;\n",
              "\n",
              "      const channel = await google.colab.kernel.comms.open(id);\n",
              "      // Send a message to notify the kernel that we're ready.\n",
              "      channel.send({})\n",
              "\n",
              "      for await (const message of channel.messages) {\n",
              "        // Send a message to notify the kernel that we're ready.\n",
              "        channel.send({})\n",
              "        if (message.buffers) {\n",
              "          for (const buffer of message.buffers) {\n",
              "            buffers.push(buffer);\n",
              "            downloaded += buffer.byteLength;\n",
              "            progress.value = downloaded;\n",
              "          }\n",
              "        }\n",
              "      }\n",
              "      const blob = new Blob(buffers, {type: 'application/binary'});\n",
              "      const a = document.createElement('a');\n",
              "      a.href = window.URL.createObjectURL(blob);\n",
              "      a.download = filename;\n",
              "      div.appendChild(a);\n",
              "      a.click();\n",
              "      div.remove();\n",
              "    }\n",
              "  "
            ]
          },
          "metadata": {}
        },
        {
          "output_type": "display_data",
          "data": {
            "text/plain": [
              "<IPython.core.display.Javascript object>"
            ],
            "application/javascript": [
              "download(\"download_14570098-85ce-4dda-babe-0d834899c8a1\", \"M11012002.xyz\", 10233675)"
            ]
          },
          "metadata": {}
        }
      ],
      "source": [
        "from numpy.core.fromnumeric import shape\n",
        "import glob\n",
        "from IPython.core.display import Image\n",
        "from numpy.lib.function_base import append\n",
        "import numpy as np\n",
        "from google.colab.patches import cv2_imshow\n",
        "import cv2 # 導入OpenCV函式庫\n",
        "from google.colab import files\n",
        "\n",
        "pts = [] #right images points\n",
        "ptsp = [] #left images points\n",
        "\n",
        "F = np.array([[-0.000000076386, 0.000003333642, -0.001745446202],\n",
        "    [0.000000105635, -0.000000103805, -0.011352133262],\n",
        "    [-0.000285872783, 0.010010406460, 1.000000000000]])\n",
        "\n",
        "LK = np.array([[1035.278669095568, 0.000000000000, 295.500377771516],\n",
        "    [0.000000000000, 1034.880664685675, 598.224722223280],\n",
        "    [0.000000000000, 0.000000000000, 1.000000000000]])\n",
        "RK = np.array([[1036.770200759934, 0.000000000000, 403.040387412710],\n",
        "    [0.000000000000, 1037.186415753241, 612.775486819306],\n",
        "    [0.000000000000, 0.000000000000, 1.000000000000]])\n",
        "LRT = np.array([[1.000000000000, 0.000000000000, 0.000000000000, 0.000000000000],\n",
        "     [0.000000000000, 1.000000000000, 0.000000000000, 0.000000000000],\n",
        "     [0.000000000000, 0.000000000000, 1.000000000000, 0.000000000000]])\n",
        "RRT = np.array([[0.958173249509, 0.009400631103, 0.286034354684, -69.855978076557],\n",
        "     [-0.009648701145, 0.999953303246, -0.000542119475, 0.110435878514],\n",
        "     [-0.286026094074, -0.002240415626, 0.958219209809, 14.517584144224]])\n",
        "\n",
        "LP = np.dot(LK,LRT)\n",
        "RP = np.dot(RK,RRT)\n",
        "\n",
        "\n",
        "# ====================load  R images==================================\n",
        "Rimagelist = sorted(glob.glob('/content/R/'+'R*.JPG'))\n",
        "# print(Rimagelist)\n",
        "Rimg_array = []\n",
        "for i in range(len(Rimagelist)):\n",
        "  img = cv2.imread(Rimagelist[i])\n",
        "  Rimg_array.append(img)\n",
        "Rimg_array = np.array(Rimg_array)\n",
        "# ====================load  L images==================================\n",
        "Limagelist = sorted(glob.glob('/content/L/'+'L*.JPG'))\n",
        "# print(Limagelist)\n",
        "Limg_array = []\n",
        "for i in range(len(Limagelist)):\n",
        "  img = cv2.imread(Limagelist[i])\n",
        "  Limg_array.append(img)\n",
        "Limg_array = np.array(Limg_array)\n",
        "# ==================================================================\n",
        "\n",
        "\n",
        "# ====================find corresponding points for every images==================================\n",
        "for k in range(len(Rimg_array)):\n",
        "  #pick brightest point of R\n",
        "  Rred = []\n",
        "  for i in range(len(Rimg_array[k])):\n",
        "    if Rimg_array[k,i,Rimg_array[k,i,:,2].argmax(),2] >= 230:#if the R channel value of pixl is bigger then 230,pick it\n",
        "      Rred.append([Rimg_array[k,i,:,2].argmax(),i])\n",
        "  # print(Rred)\n",
        "  #pick brightest point of L\n",
        "  Lred = []\n",
        "  for i in range(len(Limg_array[k])):\n",
        "    if Limg_array[k,i,Limg_array[k,i,:,2].argmax(),2] >= 230:#if the R channel value of pixl is bigger then 230,pick it\n",
        "      Lred.append([Limg_array[k,i,:,2].argmax(),i])\n",
        "  # print(Lred)\n",
        "\n",
        "  for p in range(len(Rred)):\n",
        "    pts.append(Rred[p])\n",
        "\n",
        "  Rred = np.array(Rred)\n",
        "  Lred = np.array(Lred)\n",
        "  # find epipllae line of every point ==========================================\n",
        "  lines = cv2.computeCorrespondEpilines(Rred.reshape(-1,1,2),2,F)\n",
        "  lines = lines.reshape(-1,3)\n",
        "  # print(lines)\n",
        "\n",
        "  for i in range(len(lines)):\n",
        "    dis_err = []\n",
        "    for j in range(0, len(Lred)):\n",
        "      dis = abs((lines[i,0]*Lred[j,0]+lines[i,1]*Lred[j,1]+lines[i,2]))/np.sqrt(lines[i,0]**2+lines[i,1]**2)\n",
        "      dis_err.append(dis)\n",
        "      # print('point',j,'error:',dis)\n",
        "    dis_err = np.array(dis_err)\n",
        "    ptsp.append(Lred[dis_err.argmin()])\n",
        "\n",
        "#  save corresponding points\n",
        "pts = np.array(pts)\n",
        "ptsp = np.array(ptsp)\n",
        "# ==================================================================\n",
        "\n",
        "# ====================find xyz coordinate===========================\n",
        "P_world = []\n",
        "for f in range(len(pts)):\n",
        "  A = np.array([pts[f,0]*RP[2]-RP[0],\n",
        "                pts[f,1]*RP[2]-RP[1],\n",
        "                ptsp[f,0]*LP[2]-LP[0],\n",
        "                ptsp[f,1]*LP[2]-LP[1]])\n",
        "\n",
        "  U, S, Vt = np.linalg.svd(A)\n",
        "  V = Vt.T\n",
        "  P_world.append(V[:,3]/V[3,3])\n",
        "\n",
        "P_world=np.array(P_world)\n",
        "P_save = P_world[:,:3]\n",
        "\n",
        "P_save = P_save.astype(int)\n",
        "\n",
        "# ====================save xyz file===========================\n",
        "np.savetxt('M11012002.xyz', P_save)\n",
        "files.download(\"M11012002.xyz\")\n"
      ]
    }
  ]
}